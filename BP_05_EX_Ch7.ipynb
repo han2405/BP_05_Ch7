{
  "nbformat": 4,
  "nbformat_minor": 0,
  "metadata": {
    "colab": {
      "provenance": [],
      "authorship_tag": "ABX9TyMzvGqIEuhGxM1JIBg9jBX1",
      "include_colab_link": true
    },
    "kernelspec": {
      "name": "python3",
      "display_name": "Python 3"
    },
    "language_info": {
      "name": "python"
    }
  },
  "cells": [
    {
      "cell_type": "markdown",
      "metadata": {
        "id": "view-in-github",
        "colab_type": "text"
      },
      "source": [
        "<a href=\"https://colab.research.google.com/github/han2405/BP_05_Ch7/blob/main/BP_05_EX_Ch7.ipynb\" target=\"_parent\"><img src=\"https://colab.research.google.com/assets/colab-badge.svg\" alt=\"Open In Colab\"/></a>"
      ]
    },
    {
      "cell_type": "markdown",
      "source": [
        "<pre>\n",
        " 1번 눈사람을 그리는 함수를 작성하고 이 함수를 여러 번 호출하여서 랜덤한 위치에 눈사람을 그리는 프로그램을 작성하라. 아래 실행 결과와 최대한 비슷하게 작성해보자."
      ],
      "metadata": {
        "id": "gSZjZ7gAXKas"
      }
    },
    {
      "cell_type": "code",
      "execution_count": null,
      "metadata": {
        "id": "q9D3q4HFXFJx"
      },
      "outputs": [],
      "source": [
        "import turtle\n",
        "t= turtle.Turtle()\n",
        "t.shape(\"turtle\")\n",
        "t.color(\"black\", \"white\") #검은선, 하얀색 채우기\n",
        "s=turtle.Screen(); s.bgcolor('skyblue'); #배경색을 바꿀 수 있음\n",
        "\n",
        "def draw_snowman(x,y):\n",
        "    t.up()\n",
        "    t.goto(x,y)\n",
        "    t.down()\n",
        "    t.begin_fill()\n",
        "    t.circle(20)\n",
        "    t.end_fill()\n",
        "    t.goto(x, y-25)\n",
        "    t.setheading(135)\n",
        "    t.forward(50)\n",
        "    t.backward(50) #여기까지 머리부위와 왼쪽 팔 부위 그려짐\n",
        "\n",
        "    t.setheading(30)\n",
        "    t.forward(50)\n",
        "    t.backward(50)\n",
        "    t.setheading(0) #오른쪽 팔 그려짐\n",
        "\n",
        "    t.begin_fill()\n",
        "    t.circle(15)\n",
        "    t.end_fill()\n",
        "    t.goto(x,y-70)\n",
        "    t.begin_fill()\n",
        "    t.circle(30)\n",
        "    t.end_fill() #중간 동그라미 아래 동그라미 그림\n",
        "\n",
        "draw_snowman(0,0) #그려질  x y 값 인수\n",
        "draw_snowman(100,0)\n",
        "draw_snowman(200,0)"
      ]
    },
    {
      "cell_type": "markdown",
      "source": [
        "<pre> 2번 6각형을 그리는 draw_hexa() 함수를 작성하고 이 함수를 호출하여서 다음과 같은 벌집 모양을 화면에 그려보자."
      ],
      "metadata": {
        "id": "OMVKqU6MXZ9d"
      }
    },
    {
      "cell_type": "code",
      "source": [
        "import turtle\n",
        "t= turtle.Turtle()\n",
        "t.shape(\"turtle\")\n",
        "t.speed(0)\n",
        "\n",
        "def hexagon():\n",
        "  for i in range(6):\n",
        "      turtle.forward(100)\n",
        "      turtle.left(360/6) #육각형이 그려진다 근데 왜 60으로 안쓰고 이렇게 쓸까\n",
        "\n",
        "for i in range(6):#육각형 그리기를 총 6번 반복\n",
        "    hexagon() #하나 그리고\n",
        "    turtle.forward(100) #이동\n",
        "    turtle.right(60) "
      ],
      "metadata": {
        "id": "dm99bICwmU1d"
      },
      "execution_count": null,
      "outputs": []
    },
    {
      "cell_type": "markdown",
      "source": [
        "<pre>\n",
        "3번 함수 f(x)=x**x+1 을 계산하는 함수를 작성하고 이 함수를 이용하여 화면에 f(x)를 그려보자."
      ],
      "metadata": {
        "id": "FF0wdP_bf5gV"
      }
    },
    {
      "cell_type": "code",
      "source": [
        "import turtle\n",
        "t= turtle.Turtle()\n",
        "t.shape(\"turtle\")\n",
        "t.speed(0)\n",
        "\n",
        "def f(x):\n",
        "    return x**2+1 #반환? 이 부분을 잘 모르겠다\n",
        "\n",
        "t.goto(200,0) #x축 그리기\n",
        "t.goto(0,0)\n",
        "t.goto(0,200) #y축 그리기\n",
        "t.goto(0,0)\n",
        "\n",
        "for x in range(150): #x를 0에서 150까지 변경하면서 f(x)값을 계산\n",
        "      t.goto(x, int(0.01*f(x))) #f(x) 그래프 그려짐"
      ],
      "metadata": {
        "id": "GMhtMlOdnZii"
      },
      "execution_count": null,
      "outputs": []
    },
    {
      "cell_type": "markdown",
      "source": [
        "<pre> 4번 터틀 그래픽에서 거북이를 움직이지 않고 선을 긋는 함수 draw_line()을 정의하고 이것을 이용하여 다음과 같은 거미줄과 같은 모양을 그려보자, 거북이는 항상 중앙에 위치한다."
      ],
      "metadata": {
        "id": "-QIF7cMPgH2s"
      }
    },
    {
      "cell_type": "code",
      "source": [
        "import turtle\n",
        "t= turtle.Turtle()\n",
        "t.shape(\"turtle\")\n",
        "t.speed(0)\n",
        "\n",
        "def draw_line():#거북을 움직이지 않고 선을 긋는 함수\n",
        "    t.fd(100)\n",
        "    t.backward(100)\n",
        "\n",
        "for x in range(12): #오른 쪽 방향으로 회전시키기 12번하는 함수\n",
        "      t.right(30)\n",
        "      draw_line() "
      ],
      "metadata": {
        "id": "jhg9kx13oDji"
      },
      "execution_count": null,
      "outputs": []
    },
    {
      "cell_type": "markdown",
      "source": [
        "<pre> 5번 다음과 깉이 이름을 받아서 생일 축하 노래를 출력하는 함수 happyBirthday()를 작성하고 테스트하시오."
      ],
      "metadata": {
        "id": "DzlXX1ZTgXPg"
      }
    },
    {
      "cell_type": "code",
      "source": [
        "def happyBirthday(person): #매개변수\n",
        "    print(\"Happy Birthday to you!\")\n",
        "    print(\"Happy Birthday to you!\")\n",
        "    print(\"Happy Birthday, Dear \" + person)\n",
        "    print(\"Happy Birthday to you!\")\n",
        "\n",
        "happyBirthday(\"홍길동\") #인수로 이름 받기"
      ],
      "metadata": {
        "colab": {
          "base_uri": "https://localhost:8080/"
        },
        "id": "wqrgQxwroE-0",
        "outputId": "8b87ec49-666e-4e70-b514-fbe1a0ecfdd5"
      },
      "execution_count": 3,
      "outputs": [
        {
          "output_type": "stream",
          "name": "stdout",
          "text": [
            "Happy Birthday to you!\n",
            "Happy Birthday to you!\n",
            "Happy Birthday, Dear 홍길동\n",
            "Happy Birthday to you!\n"
          ]
        }
      ]
    },
    {
      "cell_type": "markdown",
      "source": [
        "<pre> 6번 사용자로부터 2개의 정수를 받아서 수학 문제를 만들어서 화면에 출력하는 함수를 작성하고 테스트하시오."
      ],
      "metadata": {
        "id": "tpLdVsmMggrn"
      }
    },
    {
      "cell_type": "code",
      "source": [
        "def sumProblem(x,y): #매개변수\n",
        "   sum=x+y\n",
        "   sentence=\"정수\"+str(x)+\"+\"+str(y)+\"의 합은?\"\n",
        "   print(sentence) \n",
        "\n",
        "def main():\n",
        "   a=int(input(\"첫 번째 정수:\"))\n",
        "   b=int(input(\"두 번째 정수:\"))\n",
        "   sumProblem(a,b)#인수?\n",
        "\n",
        "main()"
      ],
      "metadata": {
        "colab": {
          "base_uri": "https://localhost:8080/"
        },
        "id": "HM6cZ0qto8Xr",
        "outputId": "457fff6a-b069-4bf0-e7fb-d329763bb2d3"
      },
      "execution_count": 4,
      "outputs": [
        {
          "output_type": "stream",
          "name": "stdout",
          "text": [
            "첫 번째 정수:10\n",
            "두 번째 정수:20\n",
            "정수10+20의 합은?\n"
          ]
        }
      ]
    },
    {
      "cell_type": "markdown",
      "source": [
        "<pre> 7번 파이를 나타내는 pi=3.14를 변수로 하여 원의 면적을 계산하는 함수 circleArea(radius)과 원의 둘레를 계산하는 함수 cirleCircleference(radius)를 작성하고 테스트하라."
      ],
      "metadata": {
        "id": "V5VLxdk4goum"
      }
    },
    {
      "cell_type": "code",
      "source": [
        "PI=3.1415926535897932846264338327950 #함수의 외부에서 생성하면 전역 변수가 된다.(함수 안에서 사용가능)\n",
        "\n",
        "def circleArea(radius):\n",
        "  return PI*radius*radius #면적\n",
        "\n",
        "def circleCircumference(radius):\n",
        "    return 2*PI*radius #둘레\n",
        "\n",
        "def main():\n",
        "  print('반지름이 5인 원의 면적:', circleArea(5))\n",
        "  print('반지름이 5인 원의 둘레:',circleCircumference(5))\n",
        "\n",
        "main()"
      ],
      "metadata": {
        "colab": {
          "base_uri": "https://localhost:8080/"
        },
        "id": "joPs47f1p8Lw",
        "outputId": "a919e721-a7e5-40b0-e80e-013e10767708"
      },
      "execution_count": 6,
      "outputs": [
        {
          "output_type": "stream",
          "name": "stdout",
          "text": [
            "반지름이 5인 원의 면적: 78.53981633974483\n",
            "반지름이 5인 원의 면적: 31.41592653589793\n"
          ]
        }
      ]
    },
    {
      "cell_type": "markdown",
      "source": [
        "<pre> 8번 덧셈, 뺄셈, 곱셈, 나눗셈을 수행하는 함수를 각각 작성하고 테스트하라."
      ],
      "metadata": {
        "id": "YPzZ9q2thBQi"
      }
    },
    {
      "cell_type": "code",
      "source": [
        "def add(a,b):\n",
        "  print(\"(%d+%d)\"%(a,b),end= \"\")\n",
        "  return a+b\n",
        "\n",
        "def subtract(a,b):\n",
        "  print(\"(%d-%d)\"%(a,b),end=\"\")\n",
        "  return a-b\n",
        "\n",
        "def multiply(a,b):\n",
        "  print(\"(%d*%d)\"%(a,b),end=\"\")\n",
        "  return a*b\n",
        "\n",
        "def divide(a,b):\n",
        "  print(\"(%d/%d)\"%(a,b),end=\"\")\n",
        "  return a/b\n",
        "\n",
        "what=add(20,10)\n",
        "print(\"=\", what) #덧셈\n",
        "\n",
        "what=subtract(20,10) #뺄셈\n",
        "print(\"=\", what)\n",
        "\n",
        "what=multiply(20,10) #곱셈\n",
        "print(\"=\", what)\n",
        "\n",
        "what=divide(20,10) #나눗셈 각각 함수 실행\n",
        "print(\"=\", what)"
      ],
      "metadata": {
        "colab": {
          "base_uri": "https://localhost:8080/"
        },
        "id": "MUOaWBEgp89F",
        "outputId": "b6b32dc2-74ed-4052-de89-9c6bcbfbfe6c"
      },
      "execution_count": 9,
      "outputs": [
        {
          "output_type": "stream",
          "name": "stdout",
          "text": [
            "(20+10)= 30\n",
            "(20-10)= 10\n",
            "(20*10)= 200\n",
            "(20/10)= 2.0\n"
          ]
        }
      ]
    }
  ]
}